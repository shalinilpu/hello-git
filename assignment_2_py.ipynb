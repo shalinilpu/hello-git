{
  "nbformat": 4,
  "nbformat_minor": 0,
  "metadata": {
    "colab": {
      "name": "assignment 2.py",
      "version": "0.3.2",
      "provenance": []
    },
    "kernelspec": {
      "name": "python2",
      "display_name": "Python 2"
    }
  },
  "cells": [
    {
      "cell_type": "markdown",
      "metadata": {
        "id": "view-in-github",
        "colab_type": "text"
      },
      "source": [
        "[View in Colaboratory](https://colab.research.google.com/github/shalinilpu/hello-git/blob/master/assignment_2_py.ipynb)"
      ]
    },
    {
      "metadata": {
        "id": "htc0g21i2oMD",
        "colab_type": "code",
        "colab": {
          "base_uri": "https://localhost:8080/",
          "height": 136
        },
        "outputId": "32d2664e-3aed-4fcc-8e42-f6cdb5db2dce"
      },
      "cell_type": "code",
      "source": [
        "print(\"shalini\");print(\"i live at mokama\");\n",
        "print(\"sunny and rashmi are my best frinds\");\n",
        "print(\"python is very easy and interesting\");\n",
        "print(2,3,4,2);\n",
        "print(3, 4, 5, 6,8);\n",
        "print(\"question 1 is completed\");\n"
      ],
      "execution_count": 35,
      "outputs": [
        {
          "output_type": "stream",
          "text": [
            "shalini\n",
            "i live at mokama\n",
            "sunny and rashmi are my best frinds\n",
            "python is very easy and interesting\n",
            "(2, 3, 4, 2)\n",
            "(3, 4, 5, 6, 8)\n",
            "question 1 is completed\n"
          ],
          "name": "stdout"
        }
      ]
    },
    {
      "metadata": {
        "id": "9NWnP9AEoWGr",
        "colab_type": "code",
        "colab": {
          "base_uri": "https://localhost:8080/",
          "height": 119
        },
        "outputId": "99516816-abb0-4ea2-c7f6-ac7443728732"
      },
      "cell_type": "code",
      "source": [
        "\n",
        "print(\"now time to question 2 \");\n",
        "print(\"acad\"+\"view\");\n",
        "print(\"parent=\"+\"papa\"+\"mummy\");\n",
        "print(\"bhai\"+'bahan');\n",
        "print(\"hindi\"+\"english=\"+\"hinglish\");\n",
        "print(\"sad\"+\"happy\");\n",
        "\n",
        "\n"
      ],
      "execution_count": 36,
      "outputs": [
        {
          "output_type": "stream",
          "text": [
            "now time to question 2 \n",
            "acadview\n",
            "parent=papamummy\n",
            "bhaibahan\n",
            "hindienglish=hinglish\n",
            "sadhappy\n"
          ],
          "name": "stdout"
        }
      ]
    },
    {
      "metadata": {
        "id": "AD5mgYw4pPrI",
        "colab_type": "code",
        "colab": {
          "base_uri": "https://localhost:8080/",
          "height": 170
        },
        "outputId": "9fc3f9bd-8301-4d54-fd0c-0c32c5ede72c"
      },
      "cell_type": "code",
      "source": [
        "\n",
        "x = 10\n",
        "print(x);\n",
        "y=20\n",
        "print(y);\n",
        "z=30\n",
        "print(z);\n",
        "a= int(input(\"take input from user\"))\n",
        "print(a);\n",
        "b=int(input(\"enetr input from user\"))\n",
        "print(b);\n",
        "c=int(input(\"enter from user\"))\n",
        "print(c);\n",
        "\n",
        "\n"
      ],
      "execution_count": 37,
      "outputs": [
        {
          "output_type": "stream",
          "text": [
            "10\n",
            "20\n",
            "30\n",
            "take input from user2\n",
            "2\n",
            "enetr input from user6\n",
            "6\n",
            "enter from user8\n",
            "8\n"
          ],
          "name": "stdout"
        }
      ]
    },
    {
      "metadata": {
        "id": "7HYHrV-Iptyp",
        "colab_type": "code",
        "colab": {
          "base_uri": "https://localhost:8080/",
          "height": 34
        },
        "outputId": "a6ecd03e-fda6-41e4-b0cf-a4ce5b525e85"
      },
      "cell_type": "code",
      "source": [
        "\n",
        "print(\"Let's get started \");\n",
        "\n",
        "\n"
      ],
      "execution_count": 38,
      "outputs": [
        {
          "output_type": "stream",
          "text": [
            "Let's get started \n"
          ],
          "name": "stdout"
        }
      ]
    },
    {
      "metadata": {
        "id": "lU-Jbkchp82e",
        "colab_type": "code",
        "colab": {
          "base_uri": "https://localhost:8080/",
          "height": 68
        },
        "outputId": "a4c433d8-1833-4977-931c-6cd473430c73"
      },
      "cell_type": "code",
      "source": [
        "\n",
        "s=\"acadview\"\n",
        "print(s);\n",
        "course=\"python\"\n",
        "print(course);\n",
        "fee=5000\n",
        "print(fee);\n",
        "\n",
        "\n"
      ],
      "execution_count": 39,
      "outputs": [
        {
          "output_type": "stream",
          "text": [
            "acadview\n",
            "python\n",
            "5000\n"
          ],
          "name": "stdout"
        }
      ]
    },
    {
      "metadata": {
        "id": "2klbW3GCqOEG",
        "colab_type": "code",
        "colab": {
          "base_uri": "https://localhost:8080/",
          "height": 34
        },
        "outputId": "6e43ba72-6349-43e5-e383-741a9a1f8fc0"
      },
      "cell_type": "code",
      "source": [
        "\n",
        "name=\"tony stark\"\n",
        "salary=100000\n",
        "print('%s\"%d')%(name,salary);\n",
        "\n",
        "\n"
      ],
      "execution_count": 40,
      "outputs": [
        {
          "output_type": "stream",
          "text": [
            "tony stark\"100000\n"
          ],
          "name": "stdout"
        }
      ]
    },
    {
      "metadata": {
        "id": "5YOOVK9Glde7",
        "colab_type": "code",
        "colab": {}
      },
      "cell_type": "code",
      "source": [
        ""
      ],
      "execution_count": 0,
      "outputs": []
    }
  ]
}