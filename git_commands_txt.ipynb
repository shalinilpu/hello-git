{
  "nbformat": 4,
  "nbformat_minor": 0,
  "metadata": {
    "colab": {
      "name": "git-commands.txt",
      "version": "0.3.2",
      "provenance": []
    },
    "kernelspec": {
      "name": "python2",
      "display_name": "Python 2"
    }
  },
  "cells": [
    {
      "cell_type": "markdown",
      "metadata": {
        "id": "view-in-github",
        "colab_type": "text"
      },
      "source": [
        "[View in Colaboratory](https://colab.research.google.com/github/shalinilpu/hello-git/blob/master/git_commands_txt.ipynb)"
      ]
    },
    {
      "metadata": {
        "id": "-JH2lB8mwP9I",
        "colab_type": "code",
        "colab": {}
      },
      "cell_type": "code",
      "source": [
        "git init:initialize the git commands on git"
      ],
      "execution_count": 0,
      "outputs": []
    },
    {
      "metadata": {
        "id": "LKhSq6O7wbku",
        "colab_type": "text"
      },
      "cell_type": "markdown",
      "source": [
        "git add .:additing the existing current file on git"
      ]
    },
    {
      "metadata": {
        "id": "hiW3zmozwlMG",
        "colab_type": "text"
      },
      "cell_type": "markdown",
      "source": [
        "git commit -m \"commit message\":give commit any file file that we are working on if not present than error"
      ]
    },
    {
      "metadata": {
        "id": "5NFF8zmswRen",
        "colab_type": "text"
      },
      "cell_type": "markdown",
      "source": [
        ""
      ]
    },
    {
      "metadata": {
        "id": "RuLfYaiz0VZ6",
        "colab_type": "text"
      },
      "cell_type": "markdown",
      "source": [
        "git status:state of working file that  are changedwhich needs to add or commit."
      ]
    },
    {
      "metadata": {
        "id": "w3SsBMva15uq",
        "colab_type": "text"
      },
      "cell_type": "markdown",
      "source": [
        "git remote add origin<server: connect to server to push on github"
      ]
    },
    {
      "metadata": {
        "id": "86ihRMEf3eVF",
        "colab_type": "text"
      },
      "cell_type": "markdown",
      "source": [
        "git push origin master:show repository on github final command"
      ]
    },
    {
      "metadata": {
        "id": "1XHJiOt_39cS",
        "colab_type": "text"
      },
      "cell_type": "markdown",
      "source": [
        ""
      ]
    },
    {
      "metadata": {
        "id": "6uTbL7-Q4Ga7",
        "colab_type": "text"
      },
      "cell_type": "markdown",
      "source": [
        "git log:show the gmt time with commit id"
      ]
    },
    {
      "metadata": {
        "id": "Xn_3BEBh4QQD",
        "colab_type": "text"
      },
      "cell_type": "markdown",
      "source": [
        "git init:to create a new repository "
      ]
    },
    {
      "metadata": {
        "id": "c8WpzlPz4hpp",
        "colab_type": "text"
      },
      "cell_type": "markdown",
      "source": [
        "git pull:merge changes on present working directory."
      ]
    }
  ]
}